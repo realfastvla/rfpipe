{
 "cells": [
  {
   "cell_type": "code",
   "execution_count": 28,
   "metadata": {},
   "outputs": [],
   "source": [
    "import rfpipe\n",
    "# Updated for rfpipe version 1.3.1\n",
    "from rfpipe import candidates\n",
    "import numpy as np \n",
    "import pylab as plt\n",
    "import matplotlib\n",
    "import sys\n",
    "import logging\n",
    "from matplotlib import gridspec\n",
    "from skimage.transform import resize\n",
    "import scipy.signal as s\n",
    "\n",
    "import h5py\n",
    "import glob \n",
    "logger = logging.getLogger()\n",
    "logger = logging.basicConfig(level=logging.INFO, format='%(asctime)s - %(name)s - %(threadName)s - %(levelname)s -'\n",
    "                                                        ' %(message)s')\n",
    "%matplotlib inline"
   ]
  },
  {
   "cell_type": "code",
   "execution_count": 12,
   "metadata": {},
   "outputs": [],
   "source": [
    "params = {\n",
    "        'axes.labelsize' : 14,\n",
    "        'font.size' : 9,\n",
    "        'legend.fontsize': 12,\n",
    "        'xtick.labelsize': 12,\n",
    "        'ytick.labelsize': 12,\n",
    "        'text.usetex': False,\n",
    "        'figure.figsize': [10, 5]\n",
    "        }\n",
    "matplotlib.rcParams.update(params)"
   ]
  },
  {
   "cell_type": "code",
   "execution_count": 13,
   "metadata": {},
   "outputs": [],
   "source": [
    "import os\n",
    "os.environ['CUDA_VISIBLE_DEVICES'] = '1'"
   ]
  },
  {
   "cell_type": "code",
   "execution_count": 4,
   "metadata": {},
   "outputs": [],
   "source": [
    "# pklname = 'cands_'+cc.metadata.scanId +'.pkl'\n",
    "pklname = '/lustre/aoc/observers/nm-10222/fetchrf/cands_16A-459_TEST_1hr_000.57633.66130137732.scan7.cut.7.1.pkl'"
   ]
  },
  {
   "cell_type": "code",
   "execution_count": 5,
   "metadata": {},
   "outputs": [],
   "source": [
    "cds = list(rfpipe.candidates.iter_cands(pklname, select='canddata'))\n",
    "cc = list(rfpipe.candidates.iter_cands(pklname, select='candcollection'))"
   ]
  },
  {
   "cell_type": "code",
   "execution_count": 14,
   "metadata": {},
   "outputs": [],
   "source": [
    "def dedisperse(data, chan_freqs, tsamp, dms=None):\n",
    "    nf, nt = data.shape\n",
    "    assert nf == len(chan_freqs)\n",
    "    delay_time = 4148808.0 * dms * (1 / (chan_freqs[0]) ** 2 - 1 / (chan_freqs) ** 2) / 1000\n",
    "    delay_bins = np.round(delay_time / tsamp).astype('int64')\n",
    "    ft = np.zeros(data.shape, dtype=np.float32)\n",
    "    for ii in range(nf):\n",
    "        ft[ii, :] = np.concatenate([data[ii,-delay_bins[ii]:], data[ii, :-delay_bins[ii]]])\n",
    "    return ft\n",
    "\n",
    "def make_dmt(ft, dmi, dmf, dmsteps, chan_freqs, tsamp):\n",
    "    dm_list = np.linspace(dmi, dmf, dmsteps)\n",
    "    dmt = np.zeros((dmsteps, ft.shape[1]), dtype=np.float32)\n",
    "    for ii, dm in enumerate(dm_list):\n",
    "        dmt[ii, :] = dedispersedts(ft, chan_freqs, tsamp, dms=dm)\n",
    "    return dmt\n",
    "\n",
    "def dedispersedts(data, chan_freqs, tsamp, dms=None):\n",
    "    nf, nt = data.shape\n",
    "    assert nf == len(chan_freqs)\n",
    "    delay_time = 4148808.0 * dms * (1 / (chan_freqs[0]) ** 2 - 1 / (chan_freqs) ** 2) / 1000\n",
    "    delay_bins = np.round(delay_time / tsamp).astype('int64')\n",
    "    ts = np.zeros(nt, dtype=np.float32)\n",
    "    for ii in range(nf):\n",
    "        ts += np.concatenate([data[ii,-delay_bins[ii]:], data[ii, :-delay_bins[ii]]])\n",
    "    return ts"
   ]
  },
  {
   "cell_type": "code",
   "execution_count": 15,
   "metadata": {},
   "outputs": [],
   "source": [
    "def pkl_to_h5(pklfile, save_png = True, outdir = None, show = False):\n",
    "    cds = list(rfpipe.candidates.iter_cands(pklfile, select='canddata'))\n",
    "    cds_to_h5(cds, save_png, outdir, show)"
   ]
  },
  {
   "cell_type": "code",
   "execution_count": 16,
   "metadata": {
    "scrolled": false
   },
   "outputs": [],
   "source": [
    "def cds_to_h5(cds, save_png = True, outdir = None, show = False):\n",
    "    for cd in cds:\n",
    "        logging.info(f'Processing candidate at candloc {cd.loc}')\n",
    "        if cd.data.any():\n",
    "            cd_to_h5(cd, save_png, outdir, show)\n",
    "        else:\n",
    "            logging.warning('Canddata is empty. Skipping Candidate')"
   ]
  },
  {
   "cell_type": "code",
   "execution_count": 17,
   "metadata": {},
   "outputs": [],
   "source": [
    "def cd_to_h5(cd, save_png = True, outdir = None, show = False):\n",
    "    dtarr_ind = cd.loc[3]\n",
    "    width_m = cd.state.dtarr[dtarr_ind]\n",
    "    timewindow = cd.state.prefs.timewindow\n",
    "    tsamp = cd.state.inttime*width_m\n",
    "    dm = cd.state.dmarr[cd.loc[2]]\n",
    "    ft_dedisp = np.flip(np.abs(cd.data[:,:,0].T) + np.abs(cd.data[:,:,1].T), axis=0)\n",
    "    chan_freqs = np.flip(cd.state.freq*1000) #from high to low, MHz\n",
    "    nf, nt = np.shape(ft_dedisp)\n",
    "    \n",
    "    logging.info(f'Size of the FT array is {(nf, nt)}')\n",
    "    \n",
    "    # If timewindow is not set during search, set it equal to the number of time bins of candidate\n",
    "    if nt != timewindow:\n",
    "        logging.info(f'Setting timewindow equal to nt = {nt}')\n",
    "        timewindow = nt\n",
    "\n",
    "    try:\n",
    "        assert nf == len(chan_freqs) \n",
    "    except AssertionError as err:\n",
    "        logging.exception(\"Number of frequency channel in data should match the frequency list\")\n",
    "        raise err\n",
    "\n",
    "    dispersed = dedisperse(ft_dedisp, chan_freqs, tsamp, -1*dm)\n",
    "\n",
    "    if dm is not 0:\n",
    "        dm_start = 0\n",
    "        dm_end = 2*dm\n",
    "    else:\n",
    "        dm_start = -10\n",
    "        dm_end = 10\n",
    "\n",
    "    logging.info(f'Generating DM-time for DM range {dm_start:.2f} pc/cc to {dm_end:.2f} pc/cc')\n",
    "    dmt = make_dmt(dispersed, dm_start, dm_end, 256, chan_freqs, tsamp)\n",
    "\n",
    "    reshaped_ft = resize(ft_dedisp, (256, 256), anti_aliasing=True)\n",
    "    reshaped_dmt = resize(dmt, (256, 256), anti_aliasing=True)\n",
    "    \n",
    "    segment, candint, dmind, dtind, beamnum = cd.loc\n",
    "    if outdir is not None:\n",
    "        fnout = outdir+'cands_{0}_seg{1}-i{2}-dm{3}-dt{4}'.format(cd.state.fileroot, segment, candint,dmind, dtind)\n",
    "    else:\n",
    "        fnout = 'cands_{0}_seg{1}-i{2}-dm{3}-dt{4}'.format(cd.state.fileroot, segment, candint,dmind, dtind)\n",
    "\n",
    "    with h5py.File(fnout+'.h5', 'w') as f:\n",
    "        freq_time_dset = f.create_dataset('data_freq_time', data=reshaped_ft)\n",
    "        freq_time_dset.dims[0].label = b\"time\"\n",
    "        freq_time_dset.dims[1].label = b\"frequency\"\n",
    "\n",
    "        dm_time_dset = f.create_dataset('data_dm_time', data=reshaped_dmt)\n",
    "        dm_time_dset.dims[0].label = b\"dm\"\n",
    "        dm_time_dset.dims[1].label = b\"time\"\n",
    "\n",
    "    logging.info(f'Saved h5 as {fnout}.h5')\n",
    "\n",
    "    if save_png:\n",
    "        ts = np.arange(timewindow)*tsamp\n",
    "        fig, ax = plt.subplots(nrows=2, ncols=1, figsize = (8,10), sharex=True)\n",
    "        ax[0].imshow(reshaped_ft, aspect='auto', extent=[ts[0], ts[-1], np.min(chan_freqs), np.max(chan_freqs)])\n",
    "        ax[0].set_ylabel('Freq')\n",
    "        ax[0].title.set_text('Dedispersed FT')\n",
    "        ax[1].imshow(reshaped_dmt, aspect='auto', extent=[ts[0], ts[-1], dm+1*dm, dm-dm])\n",
    "        ax[1].set_ylabel('DM')\n",
    "        ax[1].title.set_text('DM-Time')\n",
    "        ax[1].set_xlabel('Time (s)')\n",
    "        plt.tight_layout()\n",
    "        plt.savefig(fnout+'.png')\n",
    "        logging.info(f'Saved png as {fnout}.png')\n",
    "        if show:\n",
    "            plt.show()\n",
    "        else:\n",
    "            plt.close()"
   ]
  },
  {
   "cell_type": "code",
   "execution_count": null,
   "metadata": {},
   "outputs": [],
   "source": [
    "def prepare_to_classify(ft, dmt):\n",
    "    data_ft = s.detrend(np.nan_to_num(ft))\n",
    "    data_ft /= np.std(data_ft)\n",
    "    data_ft -= np.median(data_ft)\n",
    "    data_dt = np.nan_to_num(dmt)\n",
    "    data_dt /= np.std(data_dt)\n",
    "    data_dt -= np.median(data_dt)\n",
    "    X = np.reshape(data_ft, (256,256, 1))\n",
    "    Y = np.reshape(data_dt, (256,256, 1))\n",
    "\n",
    "    X[X != X] = 0.0\n",
    "    Y[Y != Y] = 0.0\n",
    "    X = X.reshape(-1, 256,256, 1)\n",
    "    Y = Y.reshape(-1, 256,256, 1)\n",
    "\n",
    "    X = X.copy(order='C')\n",
    "    Y = Y.copy(order='C')\n",
    "\n",
    "    payload = {\"data_freq_time\": X.tolist(), \"data_dm_time\": Y.tolist()}\n",
    "    return payload"
   ]
  },
  {
   "cell_type": "code",
   "execution_count": 49,
   "metadata": {},
   "outputs": [],
   "source": [
    "def classify_cd(cd, KERAS_REST_API_URL):\n",
    "    if not cd.data.any():\n",
    "        logging.warning('Canddata is empty')\n",
    "        frb_prob = -1\n",
    "    else:\n",
    "        dtarr_ind = cd.loc[3]\n",
    "        width_m = cd.state.dtarr[dtarr_ind]\n",
    "        timewindow = cd.state.prefs.timewindow\n",
    "        tsamp = cd.state.inttime*width_m\n",
    "        dm = cd.state.dmarr[cd.loc[2]]\n",
    "        ft_dedisp = np.flip(np.abs(cd.data[:,:,0].T) + np.abs(cd.data[:,:,1].T), axis=0)\n",
    "        chan_freqs = np.flip(cd.state.freq*1000) #from high to low, MHz\n",
    "        nf, nt = np.shape(ft_dedisp)\n",
    "\n",
    "        logging.info(f'Size of the FT array is {(nf, nt)}')\n",
    "\n",
    "        # If timewindow is not set during search, set it equal to the number of time bins of candidate\n",
    "        if nt != timewindow:\n",
    "            logging.info(f'Setting timewindow equal to nt = {nt}')\n",
    "            timewindow = nt\n",
    "\n",
    "        try:\n",
    "            assert nf == len(chan_freqs) \n",
    "        except AssertionError as err:\n",
    "            logging.exception(\"Number of frequency channel in data should match the frequency list\")\n",
    "            raise err\n",
    "\n",
    "        dispersed = dedisperse(ft_dedisp, chan_freqs, tsamp, -1*dm)\n",
    "\n",
    "        if dm is not 0:\n",
    "            dm_start = 0\n",
    "            dm_end = 2*dm\n",
    "        else:\n",
    "            dm_start = -10\n",
    "            dm_end = 10\n",
    "\n",
    "        logging.info(f'Generating DM-time for DM range {dm_start:.2f} pc/cc to {dm_end:.2f} pc/cc')\n",
    "        dmt = make_dmt(dispersed, dm_start, dm_end, 256, chan_freqs, tsamp)\n",
    "\n",
    "        # TODO: Test if median padding in time is better than resize \n",
    "        reshaped_ft = resize(ft_dedisp, (256, 256), anti_aliasing=True)\n",
    "        reshaped_dmt = resize(dmt, (256, 256), anti_aliasing=True)\n",
    "\n",
    "        payload = prepare_to_classify(reshaped_ft, reshaped_dmt)\n",
    "\n",
    "        response = requests.post(KERAS_REST_API_URL, json=payload).json()\n",
    "        frb_prob = response[\"predictions\"][0][1]\n",
    "        logging.info(f'FRB probability of this candidate is: {frb_prob}')\n",
    "    return frb_prob "
   ]
  },
  {
   "cell_type": "code",
   "execution_count": 47,
   "metadata": {},
   "outputs": [],
   "source": [
    "pkllist = glob.glob('/lustre/aoc/observers/nm-10222/rfgpu/Refinement/*pkl')\n",
    "cds = list(rfpipe.candidates.iter_cands(pkllist[0], select='canddata'))\n",
    "cd = cds[3]"
   ]
  },
  {
   "cell_type": "code",
   "execution_count": 55,
   "metadata": {
    "scrolled": true
   },
   "outputs": [
    {
     "name": "stderr",
     "output_type": "stream",
     "text": [
      "2019-05-15 22:13:36,616 - root - INFO - Size of the FT array is (256, 66)\n",
      "2019-05-15 22:13:36,618 - root - INFO - Generating DM-time for DM range 0.00 pc/cc to 1173.80 pc/cc\n",
      "2019-05-15 22:13:37,265 - root - INFO - FRB probability of this candidate is: 0.9996829032897949\n"
     ]
    },
    {
     "name": "stdout",
     "output_type": "stream",
     "text": [
      " "
     ]
    }
   ],
   "source": [
    "import requests\n",
    "KERAS_REST_API_URL = \"http://localhost:5000/predict\"\n",
    "frb_prob = classify_cd(cd, KERAS_REST_API_URL)"
   ]
  },
  {
   "cell_type": "code",
   "execution_count": null,
   "metadata": {
    "scrolled": true
   },
   "outputs": [],
   "source": [
    "for pkl in pkllist:\n",
    "    pkl_to_h5(pklfile=pkl, show=False, save_png=True, outdir='/lustre/aoc/observers/nm-10222/fetchrf/h5s/')"
   ]
  }
 ],
 "metadata": {
  "kernelspec": {
   "display_name": "Python 3",
   "language": "python",
   "name": "python3"
  },
  "language_info": {
   "codemirror_mode": {
    "name": "ipython",
    "version": 3
   },
   "file_extension": ".py",
   "mimetype": "text/x-python",
   "name": "python",
   "nbconvert_exporter": "python",
   "pygments_lexer": "ipython3",
   "version": "3.7.1"
  }
 },
 "nbformat": 4,
 "nbformat_minor": 2
}
